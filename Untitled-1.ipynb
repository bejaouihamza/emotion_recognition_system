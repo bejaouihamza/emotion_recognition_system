{
 "cells": [
  {
   "cell_type": "code",
   "execution_count": 1,
   "metadata": {},
   "outputs": [
    {
     "name": "stdout",
     "output_type": "stream",
     "text": [
      "WARNING:tensorflow:From c:\\Users\\bejao\\AppData\\Local\\Programs\\Python\\Python312\\Lib\\site-packages\\tf_keras\\src\\losses.py:2976: The name tf.losses.sparse_softmax_cross_entropy is deprecated. Please use tf.compat.v1.losses.sparse_softmax_cross_entropy instead.\n",
      "\n"
     ]
    }
   ],
   "source": [
    "import cv2\n",
    "import deepface as df\n",
    "from deepface import DeepFace"
   ]
  },
  {
   "cell_type": "code",
   "execution_count": 2,
   "metadata": {},
   "outputs": [],
   "source": [
    "def color_variation(emotions_degree):\n",
    "    if emotions_degree == 'happy':\n",
    "        return (0, 255, 0)\n",
    "    elif emotions_degree == 'sad':\n",
    "        return (0, 0, 255)\n",
    "    elif emotions_degree == 'surprise':\n",
    "        return (0, 255, 255)\n",
    "    elif emotions_degree == 'neutral':\n",
    "        return (255, 255, 255)\n",
    "    elif emotions_degree == 'angry':\n",
    "        return (0, 0, 0)\n",
    "    elif emotions_degree == 'fear':\n",
    "        return (255, 0, 255)\n",
    "    elif emotions_degree == 'disgust':\n",
    "        return (255, 0, 0)\n",
    "    else:\n",
    "        return (0, 0, 0)\n"
   ]
  },
  {
   "cell_type": "code",
   "execution_count": 4,
   "metadata": {},
   "outputs": [],
   "source": [
    "cap = cv2.VideoCapture(0)\n",
    "active = True\n",
    "while active:\n",
    "    ret, frame = cap.read()\n",
    "    if frame is not None:\n",
    "        frame = cv2.flip(frame, 1)\n",
    "        result = DeepFace.analyze(frame, actions=['emotion'], enforce_detection=False)\n",
    "        if result:\n",
    "            x, y, w, h = result[0]['region']['x'], result[0]['region']['y'], result[0]['region']['w'], result[0]['region']['h']\n",
    "            cv2.rectangle(frame, (x, y), (x + w, y + h), color_variation(result[0]['dominant_emotion']), 2)\n",
    "            cv2.putText(frame, result[0]['dominant_emotion'], (x, y - 10), cv2.FONT_HERSHEY_SIMPLEX, 0.7, color_variation(result[0]['dominant_emotion']), 2)\n",
    "        cv2.imshow('frame', frame)\n",
    "    if cv2.waitKey(1) == ord('q'):\n",
    "        active = False\n",
    "cv2.destroyAllWindows()"
   ]
  }
 ],
 "metadata": {
  "kernelspec": {
   "display_name": "Python 3",
   "language": "python",
   "name": "python3"
  },
  "language_info": {
   "codemirror_mode": {
    "name": "ipython",
    "version": 3
   },
   "file_extension": ".py",
   "mimetype": "text/x-python",
   "name": "python",
   "nbconvert_exporter": "python",
   "pygments_lexer": "ipython3",
   "version": "3.12.5"
  }
 },
 "nbformat": 4,
 "nbformat_minor": 2
}
